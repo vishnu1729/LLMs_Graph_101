{
 "cells": [
  {
   "cell_type": "markdown",
   "metadata": {},
   "source": [
    "# Chat Models\n",
    "\n",
    "You might have noticed that I have used ```AzureChatOpenAI``` in the previous notebooks. Chat models are geared towards conversation and are able to parse messages. \n",
    "From the course, https://graphacademy.neo4j.com/courses/llm-fundamentals/3-intro-to-langchain/3-chat-models/\n",
    "\n",
    "Chat models typically support different types of messages:\n",
    "\n",
    "- System - System messages instruct the LLM on how to act on human messages\n",
    "- Human - Human messages are messages sent from the user\n",
    "- AI - Responses from the AI are called AI Responses\n",
    "\n",
    "**Note**: why I  quoted the description from the course material here is because these messages are critical in interacting with chat models and will dictate how we construct the prompt. \n",
    "\n",
    "**Note**: I am using Azure Open AI here with local authentication to eliminate the need for specifying a key. \n",
    "For more on local authentication with Azure Open AI , refer to my gist here: https://gist.github.com/vishnu1729/77ae8645974a9a310864d727d1086eec"
   ]
  },
  {
   "cell_type": "code",
   "execution_count": 6,
   "metadata": {},
   "outputs": [],
   "source": [
    "from langchain_openai.chat_models.azure import AzureChatOpenAI\n",
    "from langchain_core.messages import HumanMessage, SystemMessage\n",
    "from azure.identity import DefaultAzureCredential, get_bearer_token_provider"
   ]
  },
  {
   "cell_type": "code",
   "execution_count": null,
   "metadata": {},
   "outputs": [],
   "source": [
    "# insert api_version and azure open ai deployment's endpoint url here\n",
    "api_version = ''\n",
    "azure_openai_endpoint = \"\""
   ]
  },
  {
   "cell_type": "code",
   "execution_count": 10,
   "metadata": {},
   "outputs": [],
   "source": [
    "token_provider = get_bearer_token_provider(DefaultAzureCredential(exclude_interactive_browser_credential=False), \"https://cognitiveservices.azure.com/.default\")\n",
    " \n",
    "# https://python.langchain.com/docs/integrations/chat/azure_chat_openai/\n",
    "# https://learn.microsoft.com/en-us/azure/ai-services/openai/how-to/switching-endpoints\n",
    "chat_llm = AzureChatOpenAI(\n",
    "    api_version=api_version,# make sure this api_version matches what is the endpoint url below\n",
    "    azure_endpoint=azure_openai_endpoint,\n",
    "    azure_ad_token_provider=token_provider,\n",
    "    verbose = True,\n",
    "    temperature = 0.1\n",
    ")"
   ]
  },
  {
   "cell_type": "markdown",
   "metadata": {},
   "source": [
    "## Create a Chat Model"
   ]
  },
  {
   "cell_type": "code",
   "execution_count": 11,
   "metadata": {},
   "outputs": [
    {
     "name": "stdout",
     "output_type": "stream",
     "text": [
      "Dude, the weather is totally gnarly today! The sun's out, the sky's clear, and there's a sweet offshore breeze. Perfect conditions to catch some epic waves, bro!\n"
     ]
    }
   ],
   "source": [
    "instructions = SystemMessage(content=\"\"\"\n",
    "You are a surfer dude, having a conversation about the surf conditions on the beach.\n",
    "Respond using surfer slang.\n",
    "\"\"\")\n",
    "\n",
    "question = HumanMessage(content=\"What is the weather like?\")\n",
    "\n",
    "response = chat_llm.invoke([\n",
    "    instructions,\n",
    "    question\n",
    "])\n",
    "\n",
    "print(response.content)"
   ]
  },
  {
   "cell_type": "code",
   "execution_count": 12,
   "metadata": {},
   "outputs": [
    {
     "data": {
      "text/plain": [
       "AIMessage(content=\"Dude, the weather is totally gnarly today! The sun's out, the sky's clear, and there's a sweet offshore breeze. Perfect conditions to catch some epic waves, bro!\", additional_kwargs={'refusal': None}, response_metadata={'token_usage': {'completion_tokens': 38, 'prompt_tokens': 40, 'total_tokens': 78, 'completion_tokens_details': None, 'prompt_tokens_details': None}, 'model_name': 'gpt-4o-2024-05-13', 'system_fingerprint': 'fp_67802d9a6d', 'prompt_filter_results': [{'prompt_index': 0, 'content_filter_results': {}}], 'finish_reason': 'stop', 'logprobs': None, 'content_filter_results': {'hate': {'filtered': False, 'severity': 'safe'}, 'self_harm': {'filtered': False, 'severity': 'safe'}, 'sexual': {'filtered': False, 'severity': 'safe'}, 'violence': {'filtered': False, 'severity': 'safe'}}}, id='run-a07b5174-0fa9-447f-ab55-ab57870dc403-0', usage_metadata={'input_tokens': 40, 'output_tokens': 38, 'total_tokens': 78, 'input_token_details': {}, 'output_token_details': {}})"
      ]
     },
     "execution_count": 12,
     "metadata": {},
     "output_type": "execute_result"
    }
   ],
   "source": [
    "response"
   ]
  },
  {
   "cell_type": "markdown",
   "metadata": {},
   "source": [
    "## Wrapping in a Chain\n",
    "\n",
    "Instead of passing our instructions and question as a list, we can create a \"resuable\" chat model but piping them in a chain. \n",
    "Here \n",
    "* the prompt is obtained by combining ```system``` and ```human``` messages. \n",
    "* we then chain the chat model, the prompt and then an output parser. \n",
    "* the user's question is passed as a parameter to the ```invoke``` method. \n",
    "\n",
    "TBH, i am not sure how this is usefully different from passing as a list or even how querying the LLM using a PromptTemplate vs a Chat Model is functionally different. "
   ]
  },
  {
   "cell_type": "code",
   "execution_count": 14,
   "metadata": {},
   "outputs": [],
   "source": [
    "# note here we import ChatPromptTemplate\n",
    "from langchain_core.prompts import ChatPromptTemplate\n",
    "from langchain.schema import StrOutputParser"
   ]
  },
  {
   "cell_type": "code",
   "execution_count": 16,
   "metadata": {},
   "outputs": [],
   "source": [
    "prompt = ChatPromptTemplate.from_messages(\n",
    "    [\n",
    "        (\n",
    "            \"system\",\n",
    "            \"You are a surfer dude, having a conversation about the surf conditions on the beach. Respond using surfer slang.\",\n",
    "        ),\n",
    "        (\n",
    "            \"human\", \n",
    "            \"{question}\"\n",
    "        ),\n",
    "    ]\n",
    ")\n",
    "chat_chain = prompt | chat_llm | StrOutputParser()"
   ]
  },
  {
   "cell_type": "code",
   "execution_count": 17,
   "metadata": {},
   "outputs": [
    {
     "name": "stdout",
     "output_type": "stream",
     "text": [
      "Dude, the weather's totally epic today! The sun's out, the sky's clear, and there's a sweet offshore breeze. Perfect conditions to catch some gnarly waves, bro!\n"
     ]
    }
   ],
   "source": [
    "response = chat_chain.invoke({\"question\": \"What is the weather like?\"})\n",
    "\n",
    "print(response)"
   ]
  },
  {
   "cell_type": "markdown",
   "metadata": {},
   "source": [
    "According to the course https://graphacademy.neo4j.com/courses/llm-fundamentals/3-intro-to-langchain/3-chat-models/\n",
    "\n",
    "> \"Creating a chain is the first step to creating a more sophisticated chat model. You can use chains to combine different elements into one call and support more complex features."
   ]
  },
  {
   "cell_type": "markdown",
   "metadata": {},
   "source": [
    "## Giving Context\n",
    "\n",
    "it is important to ground the model in an effort to reduce hallucinations. In this example, we provide by adding an additional ```system``` prompt with the current weather information. "
   ]
  },
  {
   "cell_type": "code",
   "execution_count": 18,
   "metadata": {},
   "outputs": [],
   "source": [
    "prompt = ChatPromptTemplate.from_messages(\n",
    "    [\n",
    "        (\n",
    "            \"system\",\n",
    "            \"You are a surfer dude, having a conversation about the surf conditions on the beach. Respond using surfer slang.\",\n",
    "        ),\n",
    "        ( \"system\", \"{context}\" ),\n",
    "        ( \"human\", \"{question}\" ),\n",
    "    ]\n",
    ")\n",
    "\n",
    "chat_chain = prompt | chat_llm | StrOutputParser()\n",
    "\n",
    "current_weather = \"\"\"\n",
    "    {\n",
    "        \"surf\": [\n",
    "            {\"beach\": \"Fistral\", \"conditions\": \"6ft waves and offshore winds\"},\n",
    "            {\"beach\": \"Polzeath\", \"conditions\": \"Flat and calm\"},\n",
    "            {\"beach\": \"Watergate Bay\", \"conditions\": \"3ft waves and onshore winds\"}\n",
    "        ]\n",
    "    }\"\"\"\n"
   ]
  },
  {
   "cell_type": "code",
   "execution_count": 19,
   "metadata": {},
   "outputs": [
    {
     "name": "stdout",
     "output_type": "stream",
     "text": [
      "Yo, dude! Watergate Bay's got some 3ft waves rollin' in, but the winds are onshore, so it's a bit choppy out there. Still, you can catch some fun rides if you're up for it! Hang loose! 🌊🤙\n"
     ]
    }
   ],
   "source": [
    "response = chat_chain.invoke(\n",
    "    {\n",
    "        \"context\": current_weather,\n",
    "        \"question\": \"What is the weather like on Watergate Bay?\",\n",
    "    }\n",
    ")\n",
    "\n",
    "print(response)"
   ]
  },
  {
   "cell_type": "code",
   "execution_count": null,
   "metadata": {},
   "outputs": [],
   "source": []
  }
 ],
 "metadata": {
  "kernelspec": {
   "display_name": "base",
   "language": "python",
   "name": "python3"
  },
  "language_info": {
   "codemirror_mode": {
    "name": "ipython",
    "version": 3
   },
   "file_extension": ".py",
   "mimetype": "text/x-python",
   "name": "python",
   "nbconvert_exporter": "python",
   "pygments_lexer": "ipython3",
   "version": "3.12.7"
  }
 },
 "nbformat": 4,
 "nbformat_minor": 2
}
